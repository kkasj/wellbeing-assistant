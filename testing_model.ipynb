{
 "cells": [
  {
   "cell_type": "code",
   "execution_count": 1,
   "metadata": {},
   "outputs": [
    {
     "name": "stdout",
     "output_type": "stream",
     "text": [
      "WARNING:tensorflow:From c:\\Users\\kkost\\.pyenv\\pyenv-win\\versions\\3.11.7\\Lib\\site-packages\\keras\\src\\losses.py:2976: The name tf.losses.sparse_softmax_cross_entropy is deprecated. Please use tf.compat.v1.losses.sparse_softmax_cross_entropy instead.\n",
      "\n"
     ]
    }
   ],
   "source": [
    "from recommendation_model import interface, model, preprocessing\n",
    "import pandas as pd"
   ]
  },
  {
   "cell_type": "code",
   "execution_count": 2,
   "metadata": {},
   "outputs": [],
   "source": [
    "from api.database_modules.entities import *\n",
    "from api.models import *\n",
    "from api.routers.users import get_activities"
   ]
  },
  {
   "cell_type": "code",
   "execution_count": 3,
   "metadata": {},
   "outputs": [],
   "source": [
    "def query_to_value(query):\n",
    "    if len(query) == 0:\n",
    "        return None\n",
    "    return query[0]"
   ]
  },
  {
   "cell_type": "code",
   "execution_count": 4,
   "metadata": {},
   "outputs": [
    {
     "name": "stdout",
     "output_type": "stream",
     "text": [
      "[<Question: 1>, <Question: 2>, <Question: 3>, <Question: 4>, <Question: 5>]\n"
     ]
    }
   ],
   "source": [
    "meal_survey = list(Survey.select().where(Survey.survey_type == str(SurveyType.MEAL.value)).limit(1))[0]\n",
    "meal_survey_questions = list(SurveyQuestion.select().where(SurveyQuestion.survey == meal_survey.id))\n",
    "meal_questions_ids = [question.question for question in meal_survey_questions]\n",
    "meal_questions = list(Question.select().where(Question.id << meal_questions_ids))\n",
    "\n",
    "print(meal_questions)"
   ]
  },
  {
   "cell_type": "code",
   "execution_count": 5,
   "metadata": {},
   "outputs": [
    {
     "name": "stdout",
     "output_type": "stream",
     "text": [
      "3\n",
      "[<UserMeal: 12>, <UserMeal: 10>, <UserMeal: 8>]\n",
      "[[<SurveyAnswer: 34>, <SurveyAnswer: 35>, <SurveyAnswer: 36>, <SurveyAnswer: 37>, <SurveyAnswer: 38>], [<SurveyAnswer: 24>, <SurveyAnswer: 25>, <SurveyAnswer: 26>, <SurveyAnswer: 27>, <SurveyAnswer: 28>], [<SurveyAnswer: 19>, <SurveyAnswer: 20>, <SurveyAnswer: 21>, <SurveyAnswer: 22>, <SurveyAnswer: 23>]]\n",
      "[<Meal: 1>, <Meal: 2>, <Meal: 3>, <Meal: 4>, <Meal: 5>, <Meal: 6>, <Meal: 7>, <Meal: 8>, <Meal: 9>, <Meal: 10>, <Meal: 11>, <Meal: 12>, <Meal: 13>, <Meal: 14>, <Meal: 15>, <Meal: 16>, <Meal: 17>, <Meal: 18>, <Meal: 19>, <Meal: 20>, <Meal: 21>]\n"
     ]
    }
   ],
   "source": [
    "users = User.select().where(User.name == \"user123\")\n",
    "for user in users:\n",
    "    user_id = user.id\n",
    "print(user_id)\n",
    "\n",
    "user_dto = UserDto(id=user_id, name=\"user123\", email=\"user123@gmail.com\")\n",
    "\n",
    "activities = get_activities(user_dto)\n",
    "\n",
    "meals_activities = [activity for activity in activities if activity.activity_type == ActivityType.MEAL]\n",
    "\n",
    "meals_activities_ids = [meal.activity_id for meal in meals_activities]\n",
    "\n",
    "survey_answers = []\n",
    "filtered_activities_ids = []\n",
    "for activity_id in meals_activities_ids:\n",
    "    activity_survey_answers = SurveyAnswer.select().where(SurveyAnswer.activity_id == activity_id)\n",
    "    if len(activity_survey_answers) == 0:\n",
    "        continue\n",
    "    \n",
    "    question_answers = [query_to_value(activity_survey_answers.where(SurveyAnswer.question == question.id).limit(1)) for question in meal_questions]\n",
    "\n",
    "    if None in question_answers:\n",
    "        continue\n",
    "\n",
    "    survey_answers.append(question_answers)\n",
    "    filtered_activities_ids.append(activity_id)\n",
    "\n",
    "# take only the meals for which we have survey answers\n",
    "user_meals = [query_to_value(UserMeal.select().where(UserMeal.id == activity_id).limit(1)) for activity_id in filtered_activities_ids]\n",
    "print(user_meals)\n",
    "print(survey_answers)\n",
    "\n",
    "available_meals = list(Meal.select())\n",
    "print(available_meals)"
   ]
  },
  {
   "cell_type": "code",
   "execution_count": 6,
   "metadata": {},
   "outputs": [],
   "source": [
    "def prepare_user_meal(user_meal, survey_answers):\n",
    "    result = {\n",
    "        \"id\": user_meal.meal.id,\n",
    "        \"name\": user_meal.meal.name,\n",
    "        \"health_index\": user_meal.meal.health_index,\n",
    "        \"glycemic_index\": user_meal.meal.glycemic_index,\n",
    "        \"protein\": user_meal.meal.protein,\n",
    "        \"carbohydrates\": user_meal.meal.carbohydrates,\n",
    "        \"fats\": user_meal.meal.fats,\n",
    "        \"fiber\": user_meal.meal.fiber,\n",
    "        \"meal_type\": user_meal.meal.meal_type,\n",
    "        \"weight\": user_meal.weight,\n",
    "    }\n",
    "\n",
    "    result.update(prepare_survey_answers(survey_answers))\n",
    "\n",
    "    return result\n",
    "def prepare_meal(meal):\n",
    "    return {\n",
    "        \"id\": meal.id,\n",
    "        \"name\": meal.name,\n",
    "        \"health_index\": meal.health_index,\n",
    "        \"glycemic_index\": meal.glycemic_index,\n",
    "        \"protein\": meal.protein,\n",
    "        \"carbohydrates\": meal.carbohydrates,\n",
    "        \"fats\": meal.fats,\n",
    "        \"fiber\": meal.fiber,\n",
    "        \"meal_type\": meal.meal_type,\n",
    "    }\n",
    "def prepare_survey_answers(survey_answers):\n",
    "    return {\n",
    "        f\"question_{answer.question.id}\": answer.answer_score\n",
    "        for answer in survey_answers\n",
    "    }"
   ]
  },
  {
   "cell_type": "code",
   "execution_count": 7,
   "metadata": {},
   "outputs": [],
   "source": [
    "user_meals = [prepare_user_meal(user_meal, answers) for user_meal, answers in zip(user_meals, survey_answers)]\n",
    "available_meals = [prepare_meal(meal) for meal in available_meals]"
   ]
  },
  {
   "cell_type": "code",
   "execution_count": 8,
   "metadata": {},
   "outputs": [],
   "source": [
    "meal_target = available_meals[0]\n",
    "meal_target.update({\"weight\": 100})"
   ]
  },
  {
   "cell_type": "code",
   "execution_count": 9,
   "metadata": {},
   "outputs": [
    {
     "name": "stdout",
     "output_type": "stream",
     "text": [
      "WARNING:tensorflow:From c:\\Users\\kkost\\.pyenv\\pyenv-win\\versions\\3.11.7\\Lib\\site-packages\\keras\\src\\backend.py:1398: The name tf.executing_eagerly_outside_functions is deprecated. Please use tf.compat.v1.executing_eagerly_outside_functions instead.\n",
      "\n",
      "(1, 10, 12)\n",
      "1/1 [==============================] - 0s 327ms/step\n",
      "1/1 [==============================] - 0s 18ms/step\n",
      "1/1 [==============================] - 0s 17ms/step\n",
      "1/1 [==============================] - 0s 18ms/step\n",
      "1/1 [==============================] - 0s 18ms/step\n",
      "1/1 [==============================] - 0s 17ms/step\n",
      "1/1 [==============================] - 0s 18ms/step\n",
      "1/1 [==============================] - 0s 30ms/step\n",
      "1/1 [==============================] - 0s 21ms/step\n",
      "1/1 [==============================] - 0s 18ms/step\n",
      "1/1 [==============================] - 0s 20ms/step\n",
      "1/1 [==============================] - 0s 17ms/step\n",
      "1/1 [==============================] - 0s 19ms/step\n",
      "1/1 [==============================] - 0s 17ms/step\n",
      "1/1 [==============================] - 0s 17ms/step\n",
      "1/1 [==============================] - 0s 18ms/step\n",
      "1/1 [==============================] - 0s 20ms/step\n",
      "1/1 [==============================] - 0s 20ms/step\n",
      "1/1 [==============================] - 0s 22ms/step\n",
      "1/1 [==============================] - 0s 20ms/step\n",
      "1/1 [==============================] - 0s 21ms/step\n",
      "1/1 [==============================] - 0s 18ms/step\n",
      "1/1 [==============================] - 0s 18ms/step\n",
      "1/1 [==============================] - 0s 18ms/step\n",
      "1/1 [==============================] - 0s 19ms/step\n",
      "1/1 [==============================] - 0s 19ms/step\n",
      "1/1 [==============================] - 0s 20ms/step\n",
      "1/1 [==============================] - 0s 20ms/step\n",
      "1/1 [==============================] - 0s 20ms/step\n",
      "1/1 [==============================] - 0s 18ms/step\n",
      "1/1 [==============================] - 0s 19ms/step\n",
      "1/1 [==============================] - 0s 17ms/step\n",
      "1/1 [==============================] - 0s 20ms/step\n",
      "1/1 [==============================] - 0s 21ms/step\n",
      "1/1 [==============================] - 0s 19ms/step\n",
      "1/1 [==============================] - 0s 20ms/step\n",
      "1/1 [==============================] - 0s 18ms/step\n",
      "1/1 [==============================] - 0s 18ms/step\n",
      "1/1 [==============================] - 0s 19ms/step\n",
      "1/1 [==============================] - 0s 17ms/step\n",
      "1/1 [==============================] - 0s 18ms/step\n",
      "1/1 [==============================] - 0s 18ms/step\n",
      "1/1 [==============================] - 0s 20ms/step\n",
      "1/1 [==============================] - 0s 18ms/step\n",
      "1/1 [==============================] - 0s 18ms/step\n",
      "1/1 [==============================] - 0s 19ms/step\n",
      "1/1 [==============================] - 0s 19ms/step\n",
      "1/1 [==============================] - 0s 17ms/step\n",
      "1/1 [==============================] - 0s 18ms/step\n",
      "1/1 [==============================] - 0s 17ms/step\n",
      "1/1 [==============================] - 0s 18ms/step\n",
      "1/1 [==============================] - 0s 19ms/step\n",
      "1/1 [==============================] - 0s 19ms/step\n",
      "1/1 [==============================] - 0s 18ms/step\n",
      "1/1 [==============================] - 0s 18ms/step\n",
      "1/1 [==============================] - 0s 19ms/step\n",
      "1/1 [==============================] - 0s 20ms/step\n",
      "1/1 [==============================] - 0s 18ms/step\n",
      "1/1 [==============================] - 0s 17ms/step\n",
      "1/1 [==============================] - 0s 18ms/step\n",
      "1/1 [==============================] - 0s 18ms/step\n",
      "1/1 [==============================] - 0s 16ms/step\n",
      "1/1 [==============================] - 0s 18ms/step\n",
      "1/1 [==============================] - 0s 17ms/step\n",
      "1/1 [==============================] - 0s 18ms/step\n",
      "1/1 [==============================] - 0s 17ms/step\n",
      "1/1 [==============================] - 0s 19ms/step\n",
      "1/1 [==============================] - 0s 18ms/step\n",
      "1/1 [==============================] - 0s 16ms/step\n",
      "1/1 [==============================] - 0s 17ms/step\n",
      "1/1 [==============================] - 0s 20ms/step\n",
      "1/1 [==============================] - 0s 19ms/step\n",
      "1/1 [==============================] - 0s 19ms/step\n",
      "1/1 [==============================] - 0s 17ms/step\n",
      "1/1 [==============================] - 0s 17ms/step\n",
      "1/1 [==============================] - 0s 19ms/step\n",
      "1/1 [==============================] - 0s 16ms/step\n",
      "1/1 [==============================] - 0s 17ms/step\n",
      "1/1 [==============================] - 0s 17ms/step\n",
      "1/1 [==============================] - 0s 17ms/step\n",
      "1/1 [==============================] - 0s 17ms/step\n",
      "1/1 [==============================] - 0s 18ms/step\n",
      "1/1 [==============================] - 0s 17ms/step\n",
      "1/1 [==============================] - 0s 18ms/step\n",
      "1/1 [==============================] - 0s 17ms/step\n",
      "1/1 [==============================] - 0s 18ms/step\n",
      "1/1 [==============================] - 0s 17ms/step\n",
      "1/1 [==============================] - 0s 17ms/step\n",
      "1/1 [==============================] - 0s 17ms/step\n",
      "1/1 [==============================] - 0s 18ms/step\n",
      "1/1 [==============================] - 0s 18ms/step\n",
      "1/1 [==============================] - 0s 17ms/step\n",
      "1/1 [==============================] - 0s 15ms/step\n",
      "1/1 [==============================] - 0s 17ms/step\n",
      "1/1 [==============================] - 0s 18ms/step\n",
      "1/1 [==============================] - 0s 18ms/step\n",
      "1/1 [==============================] - 0s 17ms/step\n",
      "1/1 [==============================] - 0s 18ms/step\n",
      "1/1 [==============================] - 0s 18ms/step\n",
      "1/1 [==============================] - 0s 18ms/step\n",
      "1/1 [==============================] - 0s 17ms/step\n",
      "1/1 [==============================] - 0s 17ms/step\n",
      "1/1 [==============================] - 0s 20ms/step\n",
      "1/1 [==============================] - 0s 20ms/step\n",
      "1/1 [==============================] - 0s 25ms/step\n",
      "{'id': 9, 'name': 'Chocolate', 'health_index': 2, 'glycemic_index': 49, 'protein': 7.65, 'carbohydrates': 59.4, 'fats': 29.7, 'fiber': 3.4, 'meal_type': 1} -0.16599973311978644 4.1745973\n"
     ]
    }
   ],
   "source": [
    "meal, weight, score = interface.get_meal_recommendation(user_meals, available_meals)\n",
    "print(meal, weight, score)"
   ]
  },
  {
   "cell_type": "code",
   "execution_count": 10,
   "metadata": {},
   "outputs": [
    {
     "ename": "AttributeError",
     "evalue": "'int' object has no attribute 'name'",
     "output_type": "error",
     "traceback": [
      "\u001b[1;31m---------------------------------------------------------------------------\u001b[0m",
      "\u001b[1;31mAttributeError\u001b[0m                            Traceback (most recent call last)",
      "Cell \u001b[1;32mIn[10], line 1\u001b[0m\n\u001b[1;32m----> 1\u001b[0m \u001b[43mmeal\u001b[49m\u001b[38;5;241;43m.\u001b[39;49m\u001b[43mname\u001b[49m\n",
      "\u001b[1;31mAttributeError\u001b[0m: 'int' object has no attribute 'name'"
     ]
    }
   ],
   "source": [
    "meal.name"
   ]
  }
 ],
 "metadata": {
  "kernelspec": {
   "display_name": "Python 3",
   "language": "python",
   "name": "python3"
  },
  "language_info": {
   "codemirror_mode": {
    "name": "ipython",
    "version": 3
   },
   "file_extension": ".py",
   "mimetype": "text/x-python",
   "name": "python",
   "nbconvert_exporter": "python",
   "pygments_lexer": "ipython3",
   "version": "3.11.7"
  }
 },
 "nbformat": 4,
 "nbformat_minor": 2
}
